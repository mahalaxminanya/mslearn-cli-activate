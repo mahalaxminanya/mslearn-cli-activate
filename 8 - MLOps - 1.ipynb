{
 "cells": [
  {
   "cell_type": "markdown",
   "metadata": {},
   "source": [
    "# Utilizing CLIV2 - create AML workspace\n",
    "\n",
    "This notebook is adapted from [mslearn-aml-cli] (https://github.com/MicrosoftLearning/mslearn-aml-cli).\n",
    "\n"
   ]
  },
  {
   "cell_type": "markdown",
   "metadata": {},
   "source": [
    "## Set up the Azure Cloud Shell and install the Azure Machine Learning extension\n",
    "1. In a browser, open the Azure portal at http://portal.azure.com, signing in with your Microsoft account.\n",
    "1. Select the [>_] (Cloud Shell) button at the top of the page to the right of the search box. This opens a Cloud Shell pane at the bottom of the portal.\n",
    "1. The first time you open the cloud shell, you will be asked to choose the type of shell you want to use (Bash or PowerShell). Select Bash.\n",
    "1. If you are asked to create storage for your cloud shell, check that the correct subscription is specified and select Create storage. Wait for the storage to be created.\n",
    "1. To avoid any conflicts with previous versions, remove any ML CLI extensions (both version 1 and 2) with this command\n",
    "\n",
    "```azurecli\n",
    "        az extension remove -n azure-cli-ml\n",
    "        az extension remove -n ml\n",
    "```\n",
    "\n",
    "\n",
    "6. Install the Azure Machine Learning extension with the following command:\n",
    "```azurecli\n",
    "        az extension add -n ml -y\n",
    "```\n",
    "\n"
   ]
  },
  {
   "cell_type": "markdown",
   "metadata": {},
   "source": [
    "## Create an Azure Resource Group and set as default\n",
    "\n",
    "To create a workspace with the CLI (v2), you need a resource group. You can create a new one with the CLI or use an existing resource group. Either way, make sure to set a resource group as the default to complete this exercise.\n",
    "\n",
    "---\n",
    "**Tip:**\n",
    "\n",
    "You can get a list of available locations with the az account list-locations command.\n",
    "\n",
    "---\n",
    "\n",
    "1. Create a resource group. Choose a location close to you.\n",
    "   ```azurecli\n",
    "   az group create --name \"diabetes-dev-rg\" --location \"eastus\"\n",
    "   ```\n",
    "1. Set the resource group as the default.\n",
    "    ```azurecli\n",
    "    az configure --defaults group=\"diabetes-dev-rg\"\n",
    "    ```"
   ]
  },
  {
   "cell_type": "markdown",
   "metadata": {},
   "source": [
    "## Create an Azure Machine Learning workspace and set as default\n",
    "\n",
    "As its name suggests, a workspace is a centralized place to manage all of the Azure ML assets you need to work on a machine learning project.\n",
    "\n",
    "1. Create a workspace.\n",
    "   ```azurecli\n",
    "   az ml workspace create --name \"aml-diabetes-dev\"\n",
    "   ```\n",
    "1. Set the workspace as default\n",
    "    ```azurecli\n",
    "    az configure --defaults workspace=\"aml-diabetes-dev\"\n",
    "    ```"
   ]
  },
  {
   "cell_type": "markdown",
   "metadata": {},
   "source": [
    "## Create a Compute Instance\n",
    "To run a notebook, you'll need a compute instance.\n",
    "\n",
    "In this exercise, you'll create a compute instance with the following settings:\n",
    "\n",
    "- ```--name:``` Name of compute instance. Has to be unique and fewer than 24 characters.\n",
    "- ```--size:``` STANDARD_DS11_V2\n",
    "- ```--type:``` ComputeInstance\n",
    "- ```--workspace-name:``` Will use the default workspace you've configured so you don't need to specify.\n",
    "- ```--resource-group:``` Will use the default resource group you've configured so you don't need to specify.\n",
    "  1. Run the ```az ml compute create``` with the settings listed above. Change the name to make it unique in your region. It should look something like this: \n",
    "    ```azurecli\n",
    "    az ml compute create --name \"testdev-vm\" --size STANDARD_DS11_V2 --type ComputeInstance\n",
    "    ```\n",
    "   "
   ]
  },
  {
   "cell_type": "markdown",
   "metadata": {},
   "source": [
    "## Create an environment\n",
    "\n",
    "To execute a Python script, you'll need to install any necessary libraries and packages. To automate the installation of packages, you can use an environment.\n",
    "\n",
    "To create an environment from a Docker image plus a Conda environment with the CLI (v2) you need two files:\n",
    "\n",
    "- The specification YAML file, including the environment name, version and base Docker image.\n",
    "- The Conda environment file, including the libraries and packages you want installed.\n",
    "\n",
    "The following command can be executed to create the environment. The yml files are created that is used as a part of this command.\n",
    "\n",
    "```azurecli\n",
    "az ml environment create --file ./<path to yml>/basic-env.yml\n",
    "```\n",
    "The file basic-env.yml(specification YML file) describes how the environment should be created in an azure machine learning workspace. This can reference another file which is the Conda environment file which can list libraries that need to be installed during compute.\n",
    "\n",
    "Once the environment is created, a summary is shown in the prompt. You can also view the environment in the Azure ML Studio in the Environments tab.\n",
    "\n"
   ]
  },
  {
   "cell_type": "markdown",
   "metadata": {},
   "source": [
    "## Create a Dataset\n",
    "\n",
    "To create a dataset in the workspace from a local CSV, you need two files:\n",
    "\n",
    "- The specification YAML file, including the dataset name, version and local path of the CSV file. Navigate to Allfiles/Labs/01/data-local-path.yml to explore the contents of this file.\n",
    "\n",
    "- The CSV file containing data. In this exercise, you’ll work with diabetes data. Navigate to Allfiles/Labs/01/data/diabetes.csv to explore the contents of \n",
    "\n",
    "Run the following command to create a dataset from the configuration described in data-local-path.yml:this file.Run the following command to create a dataset from the configuration described in data-local-path.yml:\n",
    "```azurecli\n",
    " az ml data create --file ./mslearn-aml-cli/Allfiles/Labs/01/data-local-path.yml\n",
    "```\n",
    "When you create a dataset from a local path, the workspace will automatically upload the dataset to the default datastore. In this case, it will be uploaded to the storage account which was created when you created the workspace."
   ]
  },
  {
   "cell_type": "markdown",
   "metadata": {},
   "source": [
    "## Clean up resources\n",
    "\n",
    "When you’re finished exploring Azure Machine Learning, shut down the compute instance to avoid unnecessary charges in your Azure subscription.\n",
    "\n",
    "You can stop a compute instance with the following command. Change \"testdev-vm\" to the name of your compute instance if necessary.\n",
    "\n",
    "```azurecli\n",
    "az ml compute stop --name \"testdev-vm\" --no-wait\n",
    "```\n",
    "\n",
    "To delete the complete Azure Machine Learning workspace and all assets you created, you can use the following command in the CLI:\n",
    "\n",
    "```azurecli\n",
    "az ml workspace delete\n",
    "```"
   ]
  }
 ],
 "metadata": {
  "kernelspec": {
   "display_name": "Python 3.9.6 64-bit",
   "language": "python",
   "name": "python3"
  },
  "language_info": {
   "name": "python",
   "version": "3.9.6"
  },
  "orig_nbformat": 4,
  "vscode": {
   "interpreter": {
    "hash": "9f47af989c7e37fa1f4a93438a5c2d86615f481a99438a569df0c439474b98af"
   }
  }
 },
 "nbformat": 4,
 "nbformat_minor": 2
}
